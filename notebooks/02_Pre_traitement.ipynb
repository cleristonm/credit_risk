{
 "cells": [
  {
   "cell_type": "code",
   "execution_count": 291,
   "id": "1ab031e5-6775-450d-97bd-683afb9e4e7f",
   "metadata": {},
   "outputs": [],
   "source": [
    "import pandas as pd\n",
    "\n",
    "df = pd.read_csv('../data/raw/credit_risk_dataset.csv')\n"
   ]
  },
  {
   "cell_type": "markdown",
   "id": "88ff949e-0347-49bf-baab-12cf0a9b282e",
   "metadata": {},
   "source": [
    "# Outliers - Suppression des valeurs aberrantes"
   ]
  },
  {
   "cell_type": "code",
   "execution_count": 293,
   "id": "a98a9b62-907a-42cd-b00d-93564c05cdef",
   "metadata": {},
   "outputs": [],
   "source": [
    "# 1. Moyenne\n",
    "# 2. Mode\n",
    "# 3. Supprimer\n",
    "\n",
    "mode_remplacement = 1"
   ]
  },
  {
   "cell_type": "code",
   "execution_count": 294,
   "id": "8bfb2690-e445-46ba-a1b9-0887ac608f67",
   "metadata": {},
   "outputs": [],
   "source": [
    "import numpy as np\n",
    "import pandas as pd\n",
    "\n",
    "def valeurs_aberrantes(col):\n",
    "    print(f'\\nChamp: {col}')\n",
    "    # Supprimer les valeurs nulles\n",
    "    colonne_sans_nuls = df[col].dropna()\n",
    "    \n",
    "    # Convertir en numérique\n",
    "    colonne_sans_nuls = pd.to_numeric(colonne_sans_nuls)\n",
    "    mean = colonne_sans_nuls.mean()\n",
    "    \n",
    "    # Calculer les quartiles\n",
    "    q1 = colonne_sans_nuls.quantile(0.25)\n",
    "    q3 = colonne_sans_nuls.quantile(0.75)\n",
    "    \n",
    "    # Calculer l'intervalle interquartile\n",
    "    iqr = q3 - q1\n",
    "    \n",
    "    # Définir les limites pour les valeurs aberrantes\n",
    "    limite_inférieure = q1 - 1.5 * iqr\n",
    "    limite_supérieure = q3 + 1.5 * iqr\n",
    "    \n",
    "    # Lister les valeurs aberrantes\n",
    "    valeur_aberrantes = df[col][(df[col].notna()) & \n",
    "                                           ((pd.to_numeric(df[col]) < limite_inférieure) | \n",
    "                                            (pd.to_numeric(df[col]) > limite_supérieure))]\n",
    "    \n",
    "    print(f'Valeur moyenne: {mean}')\n",
    "    print(f'Min valeur aberrante: {min(valeur_aberrantes)}')\n",
    "    print(f'Max valeur aberrante: {max(valeur_aberrantes)}')\n",
    "    "
   ]
  },
  {
   "cell_type": "code",
   "execution_count": 295,
   "id": "2b8a13be-ab89-410b-b580-a6281ce502ca",
   "metadata": {},
   "outputs": [
    {
     "name": "stdout",
     "output_type": "stream",
     "text": [
      "\n",
      "Champ: person_age\n",
      "Valeur moyenne: 27.73459992019889\n",
      "Min valeur aberrante: 41\n",
      "Max valeur aberrante: 144\n",
      "\n",
      "Champ: person_emp_length\n",
      "Valeur moyenne: 4.789686296787225\n",
      "Min valeur aberrante: 15.0\n",
      "Max valeur aberrante: 123.0\n",
      "\n",
      "Champ: cb_person_cred_hist_length\n",
      "Valeur moyenne: 5.804211043246064\n",
      "Min valeur aberrante: 16\n",
      "Max valeur aberrante: 30\n"
     ]
    }
   ],
   "source": [
    "valeurs_aberrantes('person_age')\n",
    "valeurs_aberrantes('person_emp_length')\n",
    "valeurs_aberrantes('cb_person_cred_hist_length')\n"
   ]
  },
  {
   "cell_type": "markdown",
   "id": "8b66e140-fa96-4c5a-9e27-fd32de97f8b2",
   "metadata": {},
   "source": [
    "Nous pouvons constater que les champs person_age et person_emp_length présentent des valeurs aberrantes. \n",
    "Définissons ces valeurs comme nulles"
   ]
  },
  {
   "cell_type": "code",
   "execution_count": 297,
   "id": "2179e8e7-96e7-45fe-bb33-f05e0022b6d1",
   "metadata": {},
   "outputs": [],
   "source": [
    "df.loc[df['person_age'] >= 80, 'person_age'] = None\n",
    "df.loc[df['person_emp_length'] >= 60, 'person_emp_length'] = None"
   ]
  },
  {
   "cell_type": "code",
   "execution_count": 298,
   "id": "95c8183a-00c0-4b6a-bad5-577d9e42a0a7",
   "metadata": {},
   "outputs": [],
   "source": [
    "def traitement_na(champ, df):\n",
    "    if (mode_remplacement == 1):\n",
    "        df[champ] = df[champ].fillna(df[champ].mean())\n",
    "    elif (mode_remplacement == 2):\n",
    "        df[champ] = df[champ].fillna(df[champ].mode()[0])\n",
    "    elif (mode_remplacement == 3):\n",
    "        num_lignes_avant = len(df)\n",
    "        df = df[df[champ].notna()]\n",
    "        print(f'Champ: {champ} - Lignes supprimées {num_lignes_avant - len(df)}')\n",
    "    return df\n",
    "\n",
    "df = traitement_na('person_age', df)\n",
    "df = traitement_na('person_emp_length', df)\n",
    "df = traitement_na('loan_int_rate', df)"
   ]
  },
  {
   "cell_type": "markdown",
   "id": "bfeec515-3025-49c6-a180-70af7edf9db1",
   "metadata": {},
   "source": [
    "# Enlever des doublons\n",
    "\n",
    "Les doublons peuvent créer un biais dans les résultats de l'analyse "
   ]
  },
  {
   "cell_type": "code",
   "execution_count": 300,
   "id": "2f9deb68-26b5-491c-bde7-6e37636208aa",
   "metadata": {},
   "outputs": [],
   "source": [
    "df = df.drop_duplicates(keep='first')"
   ]
  },
  {
   "cell_type": "markdown",
   "id": "12354f01-00d5-4afe-b133-52d11c9983d6",
   "metadata": {},
   "source": [
    "# Encodage"
   ]
  },
  {
   "cell_type": "markdown",
   "id": "b735c67a-a446-44c4-b983-2d199c34caf8",
   "metadata": {},
   "source": [
    "## One Hot Encoder - Loan_intent"
   ]
  },
  {
   "cell_type": "code",
   "execution_count": 303,
   "id": "79b268f9-e5e5-4a56-a925-1e62fb56f6f9",
   "metadata": {},
   "outputs": [],
   "source": [
    "\n",
    "from sklearn.preprocessing import OneHotEncoder\n",
    "\n",
    "encoder = OneHotEncoder()\n",
    "\n",
    "encoded_loan_intent = encoder.fit_transform(df[['loan_intent']]).toarray()\n",
    "\n",
    "encoded_df = pd.DataFrame(encoded_loan_intent, columns=encoder.get_feature_names_out(['loan_intent']), \n",
    "                          index=df.index)\n",
    "\n",
    "df = pd.concat([df, encoded_df], axis=1)"
   ]
  },
  {
   "cell_type": "markdown",
   "id": "bf4be81f-596d-45c1-878e-003f111b425c",
   "metadata": {},
   "source": [
    "## One Hot Encoder - person_home_ownership"
   ]
  },
  {
   "cell_type": "code",
   "execution_count": 305,
   "id": "1b45919b-b711-4c6b-93a1-e9128aff00bd",
   "metadata": {},
   "outputs": [],
   "source": [
    "encoded_person_home_ownership = encoder.fit_transform(df[['person_home_ownership']]).toarray()\n",
    "\n",
    "encoded_df = pd.DataFrame(encoded_person_home_ownership, columns=encoder.get_feature_names_out(['person_home_ownership']), \n",
    "                          index=df.index)\n",
    "\n",
    "df = pd.concat([df, encoded_df], axis=1)"
   ]
  },
  {
   "cell_type": "markdown",
   "id": "00b65093-5198-4116-b622-1ece61a95d0f",
   "metadata": {},
   "source": [
    "## OrdinalEncoder - loan_grade_encoded"
   ]
  },
  {
   "cell_type": "code",
   "execution_count": 307,
   "id": "20c3e353-1bf5-4ceb-ba83-0aa19fcabc6f",
   "metadata": {},
   "outputs": [],
   "source": [
    "from sklearn.preprocessing import OrdinalEncoder\n",
    "\n",
    "ordre = np.sort(df['loan_grade'].unique())\n",
    "\n",
    "# Création de l'Ordinal Encoder\n",
    "oe = OrdinalEncoder(categories=[ordre])\n",
    "\n",
    "# Transformation de la colonne\n",
    "df['loan_grade_encoded'] = oe.fit_transform(df[['loan_grade']])"
   ]
  },
  {
   "cell_type": "code",
   "execution_count": 308,
   "id": "ee625041-e6d0-46fd-9713-6bc0dc4907e5",
   "metadata": {},
   "outputs": [],
   "source": [
    "from sklearn.preprocessing import LabelEncoder\n",
    "\n",
    "\n",
    "# Création d'un Label Encoder\n",
    "le = LabelEncoder()\n",
    "\n",
    "# Fit et transform\n",
    "df['cb_person_default_on_file_encoded'] = le.fit_transform(df['cb_person_default_on_file'])"
   ]
  },
  {
   "cell_type": "markdown",
   "id": "eb3c0146-16d7-4c53-ba54-1b65cd7c7de1",
   "metadata": {},
   "source": [
    "## Scaler "
   ]
  },
  {
   "cell_type": "code",
   "execution_count": 310,
   "id": "7e6cbe2d-769f-4508-966e-7b9e7023503d",
   "metadata": {},
   "outputs": [],
   "source": [
    "numeric_features = [\"person_age\",\"person_income\",\"person_emp_length\",\"loan_int_rate\", \"loan_amnt\", \"loan_percent_income\", \"cb_person_cred_hist_length\"]\n",
    "categorical_features = [\"person_home_ownership\",\"loan_grade\", \"loan_intent\",\"cb_person_default_on_file\", \"cb_person_default_on_file\"]"
   ]
  },
  {
   "cell_type": "code",
   "execution_count": 311,
   "id": "52c153a5-e237-49b4-90cf-8686e5bd553c",
   "metadata": {},
   "outputs": [],
   "source": [
    "###TODO VERIFIER RobustScaler POUR LES OUTLIERS \n",
    "from sklearn.preprocessing import MinMaxScaler\n",
    "\n",
    "scaler = MinMaxScaler()\n",
    "df[numeric_features] = scaler.fit_transform(df[numeric_features])"
   ]
  },
  {
   "cell_type": "code",
   "execution_count": 312,
   "id": "73a39abf-cecd-4bfe-87d1-d45ccd53837e",
   "metadata": {},
   "outputs": [],
   "source": [
    "df.to_csv('../data/processed/credit_risk_dataset_processed.csv', index=False)"
   ]
  }
 ],
 "metadata": {
  "kernelspec": {
   "display_name": "Python 3 (ipykernel)",
   "language": "python",
   "name": "python3"
  },
  "language_info": {
   "codemirror_mode": {
    "name": "ipython",
    "version": 3
   },
   "file_extension": ".py",
   "mimetype": "text/x-python",
   "name": "python",
   "nbconvert_exporter": "python",
   "pygments_lexer": "ipython3",
   "version": "3.12.4"
  }
 },
 "nbformat": 4,
 "nbformat_minor": 5
}
